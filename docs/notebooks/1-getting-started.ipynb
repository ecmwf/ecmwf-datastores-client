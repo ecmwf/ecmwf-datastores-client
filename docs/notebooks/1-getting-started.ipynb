{
 "cells": [
  {
   "cell_type": "markdown",
   "id": "ee4f2a54-2181-45d0-83e1-d897a6f3cfd0",
   "metadata": {},
   "source": [
    "# Getting Started with `ecmwf-datastores-client`\n",
    "\n",
    "Welcome! This tutorial will help you access climate data from the Climate Data Store (CDS) or the Atmosphere Data Store (ADS) using the new [`ecmwf-datastores-client`](https://pypi.org/project/ecmwf-datastores-client/) Python library. Even if you're not a programmer, you'll be able to follow along."
   ]
  },
  {
   "cell_type": "markdown",
   "id": "8a0050f8-533d-4175-a4cc-5ecc5c1bd31d",
   "metadata": {},
   "source": [
    "## Finding Your API Key\n",
    "\n",
    "1. Log in to your [CDS account](https://cds.climate.copernicus.eu/) or your [ADS account](https://ads.atmosphere.copernicus.eu/)\n",
    "2. Click on the \"User guide\" tab.\n",
    "3. Select \"Get data programmatically (API service)\" from the menu\n",
    "4. You'll see your key in the format `key:your-long-api-key-here`"
   ]
  },
  {
   "cell_type": "markdown",
   "id": "28454976-fd76-4725-af91-a01184ec7867",
   "metadata": {},
   "source": [
    "## Setting Up Your Connection. \n",
    "\n",
    "You need to create a file called `.ecmwfdatastoresrc`, which will securely store your API credentials so you can be authenticated for your requests. Let’s create one in your home directory."
   ]
  },
  {
   "cell_type": "markdown",
   "id": "0fda7fc2-a8d3-4ddc-860f-403387370e67",
   "metadata": {},
   "source": [
    "By default, the ecmwf-datastores-client uses a file in your home directory (~/.ecmwfdatastoresrc) for the credentials when connecting to the DSS. \n",
    "The following code block will <b>create/change this file for you</b>. You should update <API_TOKEN_PLACEHOLDER> with your API Token from the previous step.\n",
    "\n",
    "Please note that the configuration below is for the CDS, if your primary portal is not the CDS, you should update the URL to a value which better suits your needs."
   ]
  },
  {
   "cell_type": "code",
   "execution_count": 1,
   "id": "f4cb3268-6ffc-4d1f-99a4-96eacc4b2849",
   "metadata": {},
   "outputs": [
    {
     "name": "stdout",
     "output_type": "stream",
     "text": [
      "Your connection details have been saved!\n",
      "\n"
     ]
    }
   ],
   "source": [
    "import yaml\n",
    "import os\n",
    "\n",
    "home_dir = os.path.expanduser(\"~\")\n",
    "\n",
    "# This is the URL for the API, this can be for the CDS or ADS, you should set it to the URL of the data store you use most\n",
    "url = \"https://cds.climate.copernicus.eu/api\"\n",
    "# url = \"https://ads.atmosphere.copernicus.eu/api\"\n",
    "\n",
    "# Replace <API_TOKEN_PLACEHOLDER> with your own API Token\n",
    "key = \"\"\n",
    "credentials = {\"url\": url, \"key\": key}\n",
    "\n",
    "with open(f\"{home_dir}/.ecmwfdatastoresrc\", \"w\") as f:\n",
    "    yaml.safe_dump(credentials, f)\n",
    "\n",
    "print(\"Your connection details have been saved!\\n\")\n",
    "!cat ~/.ecmwfdatastoresrc"
   ]
  }
 ],
 "metadata": {
  "kernelspec": {
   "display_name": "Python 3 (ipykernel)",
   "language": "python",
   "name": "python3"
  },
  "language_info": {
   "codemirror_mode": {
    "name": "ipython",
    "version": 3
   },
   "file_extension": ".py",
   "mimetype": "text/x-python",
   "name": "python",
   "nbconvert_exporter": "python",
   "pygments_lexer": "ipython3",
   "version": "3.13.2"
  }
 },
 "nbformat": 4,
 "nbformat_minor": 5
}
