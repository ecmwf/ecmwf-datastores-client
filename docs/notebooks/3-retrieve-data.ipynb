{
 "cells": [
  {
   "cell_type": "markdown",
   "id": "d58cf720-02b6-4aec-8e87-97e0a25d7b5a",
   "metadata": {},
   "source": [
    "# Retrieve sample ERA5 data using `ecmwf-datastores-client`"
   ]
  },
  {
   "cell_type": "markdown",
   "id": "1b8e8fcc",
   "metadata": {},
   "source": [
    "This notebook shows you how to download climate/atmosphere data from the Copernicus Data Store using simple Python commands."
   ]
  },
  {
   "cell_type": "markdown",
   "id": "ec3d9694-8664-49c0-b54e-01ddd02f398d",
   "metadata": {},
   "source": [
    "## What You Need Before Starting"
   ]
  },
  {
   "cell_type": "markdown",
   "id": "611b7c94",
   "metadata": {},
   "source": [
    "1. An **active internet connection**\n",
    "2. **Python** installed on your computer\n",
    "3. The `ecmwf-datastores-client` package installed, otherwise uncomment and run the next cell\n",
    "4. A **CDS account** or **ADS account** with your API key set up (see the \"Getting Started\" notebook)"
   ]
  },
  {
   "cell_type": "code",
   "execution_count": null,
   "id": "afd8f379-9440-4e7f-8ecb-84a446459b4d",
   "metadata": {},
   "outputs": [],
   "source": [
    "# !pip install -U ecmwf-datastores-client"
   ]
  },
  {
   "cell_type": "code",
   "execution_count": null,
   "id": "58e4cb29-b28d-4a35-87e0-c9242273f53c",
   "metadata": {},
   "outputs": [],
   "source": [
    "# Libraries\n",
    "import os\n",
    "\n",
    "from ecmwf.datastores import Client"
   ]
  },
  {
   "cell_type": "markdown",
   "id": "c384029a-eb58-4440-a03d-47c52983a870",
   "metadata": {},
   "source": [
    "**Tip:** If you don’t want to see warnings while running your notebook, you can uncomment the following cell:"
   ]
  },
  {
   "cell_type": "code",
   "execution_count": null,
   "id": "56fdb440-9877-470e-8b1c-57519adc5d99",
   "metadata": {},
   "outputs": [],
   "source": [
    "# import warnings\n",
    "# warnings.filterwarnings(\"ignore\")"
   ]
  },
  {
   "cell_type": "markdown",
   "id": "448dd0d8-c659-4ecb-ac69-4eaec6c0e296",
   "metadata": {},
   "source": [
    "## Connect to the Data Store\n",
    "\n",
    "First, we'll connect to the data store using your saved credentials:"
   ]
  },
  {
   "cell_type": "code",
   "execution_count": null,
   "id": "3095febc-bd71-4fb9-9ec2-35149da7390a",
   "metadata": {},
   "outputs": [],
   "source": [
    "client = Client()\n",
    "\n",
    "# Check that we're connected successfully\n",
    "connection_info = client.check_authentication()\n",
    "print(\"✅ Connected successfully to the Data Store!\")"
   ]
  },
  {
   "cell_type": "markdown",
   "id": "87fa1f57-085a-4d09-98f9-3d0e7460da62",
   "metadata": {},
   "source": [
    "## Download Data from a Collection\n",
    "\n",
    "The syntax of the request should follow the syntax specified on the relevant CDS/ADS download page and be structured to be as efficient as possible e.g. requesting 1 month at a time for hourly data."
   ]
  },
  {
   "cell_type": "code",
   "execution_count": null,
   "id": "0504b233-103e-490f-b71c-a3a17524c5b0",
   "metadata": {},
   "outputs": [],
   "source": [
    "# Define the ERA5 dataset and request parameters\n",
    "collection_id = \"reanalysis-era5-single-levels\"\n",
    "request = {\n",
    "    \"product_type\": [\"reanalysis\"],\n",
    "    \"variable\": [\"2m_temperature\"],\n",
    "    \"year\": [\"2022\"],\n",
    "    \"month\": [\"01\"],\n",
    "    \"day\": [\"01\"],\n",
    "    \"time\": [\"00:00\"],\n",
    "    \"data_format\": \"grib\",\n",
    "    \"download_format\": \"unarchived\",\n",
    "}\n",
    "\n",
    "# # Define the CAMS global atmospheric composition forecasts request parameters\n",
    "# collection_id = \"cams-global-atmospheric-composition-forecasts\"\n",
    "# request = {\n",
    "#     \"variable\": [\"2m_temperature\"],\n",
    "#     \"date\": [\"2025-05-15/2025-05-15\"],\n",
    "#     \"time\": [\"00:00\"],\n",
    "#     \"leadtime_hour\": [\"0\", \"1\", \"2\", \"3\", \"4\", \"5\", \"6\", \"7\", \"8\", \"9\", \"10\"],\n",
    "#     \"type\": [\"forecast\"],\n",
    "#     \"data_format\": \"grib\"\n",
    "# }"
   ]
  },
  {
   "cell_type": "markdown",
   "id": "e9eb45cb-a10d-438a-a765-e98b4c00eda5",
   "metadata": {},
   "source": [
    "## Download Options\n",
    "\n",
    "You can download the data in two simple ways:"
   ]
  },
  {
   "cell_type": "markdown",
   "id": "7c170474-33d7-4edb-a679-8755040fe131",
   "metadata": {},
   "source": [
    "### Option 1: Save with Your Own Filename"
   ]
  },
  {
   "cell_type": "code",
   "execution_count": null,
   "id": "1f93ffc5-4b01-45d7-8338-24d77e31925f",
   "metadata": {},
   "outputs": [],
   "source": [
    "# Download the data and give it a name you choose\n",
    "print(\"Downloading data to 'sample.grib'...\")\n",
    "client.retrieve(collection_id, request, target=\"sample.grib\")\n",
    "print(\"✅ Download complete!\")"
   ]
  },
  {
   "cell_type": "markdown",
   "id": "4ee0fb88-de80-4f60-8ba7-8397fe7e1c37",
   "metadata": {},
   "source": [
    "### Option 2: Use the Default Filename"
   ]
  },
  {
   "cell_type": "code",
   "execution_count": null,
   "id": "cc6ca312-62a2-4057-8ac2-bc80137ea4eb",
   "metadata": {},
   "outputs": [],
   "source": [
    "# Download with the system's default filename\n",
    "print(\"Downloading data with the default filename...\")\n",
    "downloaded_file = client.retrieve(collection_id, request)\n",
    "print(f\"✅ Download complete! File saved as: {downloaded_file}\")"
   ]
  },
  {
   "cell_type": "code",
   "execution_count": null,
   "id": "55906393-78a3-44e6-b127-ccf0b9bf6849",
   "metadata": {},
   "outputs": [],
   "source": []
  }
 ],
 "metadata": {
  "kernelspec": {
   "display_name": "Python 3 (ipykernel)",
   "language": "python",
   "name": "python3"
  },
  "language_info": {
   "codemirror_mode": {
    "name": "ipython",
    "version": 3
   },
   "file_extension": ".py",
   "mimetype": "text/x-python",
   "name": "python",
   "nbconvert_exporter": "python",
   "pygments_lexer": "ipython3",
   "version": "3.13.2"
  }
 },
 "nbformat": 4,
 "nbformat_minor": 5
}
