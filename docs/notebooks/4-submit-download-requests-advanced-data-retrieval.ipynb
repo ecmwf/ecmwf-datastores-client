{
 "cells": [
  {
   "cell_type": "markdown",
   "id": "d58cf720-02b6-4aec-8e87-97e0a25d7b5a",
   "metadata": {},
   "source": [
    "# Advanced Data Retrieval with `ecmwf-datastores-client`\n",
    "\n",
    "This guide shows you different ways to download climate/atmosphere data from the Copernicus Data Store. These methods give you more control over how you request and manage your data downloads."
   ]
  },
  {
   "cell_type": "markdown",
   "id": "ec3d9694-8664-49c0-b54e-01ddd02f398d",
   "metadata": {},
   "source": [
    "## What You Need Before Starting\n",
    "\n",
    "1. An **active internet connection**\n",
    "2. **Python** installed on your computer\n",
    "3. The `ecmwf-datastores-client` package installed, otherwise uncomment and run the next cell\n",
    "4. A **CDS account** or **ADS account** with your API key set up (see the \"Getting Started\" notebook)"
   ]
  },
  {
   "cell_type": "code",
   "execution_count": null,
   "id": "afd8f379-9440-4e7f-8ecb-84a446459b4d",
   "metadata": {},
   "outputs": [],
   "source": [
    "# !pip install -U ecmwf-datastores-client"
   ]
  },
  {
   "cell_type": "code",
   "execution_count": null,
   "id": "58e4cb29-b28d-4a35-87e0-c9242273f53c",
   "metadata": {},
   "outputs": [],
   "source": [
    "# Libraries\n",
    "import os\n",
    "import time\n",
    "\n",
    "from ecmwf.datastores import Client"
   ]
  },
  {
   "cell_type": "markdown",
   "id": "c384029a-eb58-4440-a03d-47c52983a870",
   "metadata": {},
   "source": [
    "**Tip:** If you don’t want to see warnings while running your notebook, you can uncomment the following cell:"
   ]
  },
  {
   "cell_type": "code",
   "execution_count": null,
   "id": "56fdb440-9877-470e-8b1c-57519adc5d99",
   "metadata": {},
   "outputs": [],
   "source": [
    "# import warnings\n",
    "# warnings.filterwarnings(\"ignore\")"
   ]
  },
  {
   "cell_type": "markdown",
   "id": "448dd0d8-c659-4ecb-ac69-4eaec6c0e296",
   "metadata": {},
   "source": [
    "## Connect to the Data Store\n",
    "\n",
    "First, we'll connect to the data store:"
   ]
  },
  {
   "cell_type": "code",
   "execution_count": null,
   "id": "3095febc-bd71-4fb9-9ec2-35149da7390a",
   "metadata": {},
   "outputs": [],
   "source": [
    "client = Client()\n",
    "\n",
    "# Check that we're connected successfully\n",
    "connection_info = client.check_authentication()\n",
    "print(\"✅ Connected successfully to the Data Store!\")"
   ]
  },
  {
   "cell_type": "markdown",
   "id": "87fa1f57-085a-4d09-98f9-3d0e7460da62",
   "metadata": {},
   "source": [
    "## Prepare Your Data Request\n",
    "\n",
    "Let's define what data we want to download:"
   ]
  },
  {
   "cell_type": "code",
   "execution_count": null,
   "id": "0504b233-103e-490f-b71c-a3a17524c5b0",
   "metadata": {},
   "outputs": [],
   "source": [
    "# Define the ERA5 dataset and request parameters\n",
    "collection_id = \"reanalysis-era5-single-levels\"\n",
    "request = {\n",
    "    \"product_type\": [\"reanalysis\"],\n",
    "    \"variable\": [\"2m_temperature\"],\n",
    "    \"year\": [\"2022\"],\n",
    "    \"month\": [\"01\"],\n",
    "    \"day\": [\"01\"],\n",
    "    \"time\": [\"00:00\"],\n",
    "    \"data_format\": \"grib\",\n",
    "    \"download_format\": \"unarchived\",\n",
    "}\n",
    "\n",
    "# # Define the CAMS global atmospheric composition forecasts request parameters\n",
    "# collection_id = \"cams-global-atmospheric-composition-forecasts\"\n",
    "# request = {\n",
    "#     \"variable\": [\"2m_temperature\"],\n",
    "#     \"date\": [\"2025-05-15/2025-05-15\"],\n",
    "#     \"time\": [\"00:00\"],\n",
    "#     \"leadtime_hour\": [\"0\",\"1\",\"2\",\"3\",\"4\",\"5\",\"6\",\"7\",\"8\",\"9\",\"10\"],\n",
    "#     \"type\": [\"forecast\"],\n",
    "#     \"data_format\": \"grib\"\n",
    "# }"
   ]
  },
  {
   "cell_type": "markdown",
   "id": "60bb2400-b6fb-4b69-8069-d15b0de310b9",
   "metadata": {},
   "source": [
    "## Option 1: Submit and Wait For Results\n",
    "\n",
    "With this approach, you submit your request and wait until it's processed before deciding what to do with the data:"
   ]
  },
  {
   "cell_type": "code",
   "execution_count": null,
   "id": "35cc78e4-ec1d-4cf7-b9b4-847e43288833",
   "metadata": {},
   "outputs": [],
   "source": [
    "# Submit the request and wait until it's processed\n",
    "print(\"Submitting data request and waiting for it to process...\")\n",
    "results = client.submit_and_wait_on_results(collection_id, request)\n",
    "print(\"✅ Request complete! Data is ready for download.\")"
   ]
  },
  {
   "cell_type": "code",
   "execution_count": null,
   "id": "e005c6af-3342-436c-b59e-1e536564413b",
   "metadata": {},
   "outputs": [],
   "source": [
    "# Now you can look at information about the data before downloading\n",
    "print(f\"File size: {results.content_length / 1024 / 1024:.2f} MB\")\n",
    "print(f\"File type: {results.content_type}\")"
   ]
  },
  {
   "cell_type": "code",
   "execution_count": null,
   "id": "bee28c5c-6b65-426a-b55a-1514ca9f3c8a",
   "metadata": {},
   "outputs": [],
   "source": [
    "# When you're ready, download the data\n",
    "results.download(target=\"sample_submit_wait.grib\")\n",
    "print(\"✅ File downloaded successfully!\")"
   ]
  },
  {
   "cell_type": "markdown",
   "id": "c68716ea-971f-48dd-8530-c73306da174f",
   "metadata": {},
   "source": [
    "## Option 2: Submit Request Without Waiting\n",
    "\n",
    "Sometimes you want to submit a request and check on it later, especially for large data requests:"
   ]
  },
  {
   "cell_type": "code",
   "execution_count": null,
   "id": "c14f0282-f436-40c0-b09d-22e60f61e2fd",
   "metadata": {},
   "outputs": [],
   "source": [
    "# Just submit the request without waiting\n",
    "print(\"Submitting data request...\")\n",
    "remote_job = client.submit(collection_id, request)\n",
    "print(f\"✅ Request submitted! Job ID: {remote_job.request_id}\")"
   ]
  },
  {
   "cell_type": "code",
   "execution_count": null,
   "id": "88b12a8f-78e3-425b-96b6-51106394b612",
   "metadata": {},
   "outputs": [],
   "source": [
    "# You can check the status of your request\n",
    "print(f\"Current status: {remote_job.status}\")"
   ]
  },
  {
   "cell_type": "code",
   "execution_count": null,
   "id": "d9f4c079-9d05-4e7b-9a06-7fa29728c8f5",
   "metadata": {},
   "outputs": [],
   "source": [
    "# When you know the data is ready, you can download it\n",
    "if remote_job.results_ready:\n",
    "    remote_job.download(target=\"sample_submit.grib\")\n",
    "    print(\"✅ Download complete!\")\n",
    "else:\n",
    "    print(\"The data is still being processed. Check back later.\")"
   ]
  },
  {
   "cell_type": "code",
   "execution_count": null,
   "id": "437b8cd7-f092-43e8-b993-a1a371f80b36",
   "metadata": {},
   "outputs": [],
   "source": [
    "# If needed, you can update the status information\n",
    "remote_job.update()\n",
    "print(f\"Updated status: {remote_job.status}\")"
   ]
  },
  {
   "cell_type": "markdown",
   "id": "1a6ec930-86ee-43f9-97ac-d8cfd6669d96",
   "metadata": {},
   "source": [
    "## Monitoring Your Data Request\n",
    "\n",
    "For large requests that might take a while, you can monitor progress:"
   ]
  },
  {
   "cell_type": "code",
   "execution_count": null,
   "id": "c774178f-7c49-4497-95da-b662b4d29294",
   "metadata": {},
   "outputs": [],
   "source": [
    "print(\"Checking on data request until it's ready...\")\n",
    "while not remote_job.results_ready:\n",
    "    # Update the status information\n",
    "    remote_job.update()\n",
    "\n",
    "    # Show the current status\n",
    "    print(f\"Status: {remote_job.status}\")\n",
    "\n",
    "    # If the job is finished but had an error\n",
    "    if remote_job.status == \"failed\":\n",
    "        print(\"❌ The request failed.\")\n",
    "        break\n",
    "\n",
    "    # Wait for 10 seconds before checking again\n",
    "    print(\"Waiting 10 seconds before checking again...\")\n",
    "    time.sleep(10)\n",
    "\n",
    "# Download the data if it's ready\n",
    "if remote_job.results_ready:\n",
    "    remote_job.download(target=\"sample_submit_time.grib\")\n",
    "    print(\"✅ Download complete!\")"
   ]
  },
  {
   "cell_type": "markdown",
   "id": "c4d2e9ec-c72b-4c0b-ba6c-616209f59837",
   "metadata": {},
   "source": [
    "## Downloading By Job ID\n",
    "\n",
    "If you have a job ID from a previous request, you can download it directly:"
   ]
  },
  {
   "cell_type": "code",
   "execution_count": null,
   "id": "40a713d0-d211-4872-ac8c-3cd8017f840f",
   "metadata": {},
   "outputs": [],
   "source": [
    "# Using a job ID from a previous request\n",
    "job_id = remote_job.request_id  # This would be the ID from a previous request\n",
    "\n",
    "# Download using the job ID\n",
    "client.download_results(job_id, target=\"sample_job.grib\")\n",
    "print(\"✅ Downloaded data using the job ID!\")"
   ]
  },
  {
   "cell_type": "markdown",
   "id": "edcab632-6ace-482e-9e1b-e87e60dcdac3",
   "metadata": {},
   "source": [
    "## Tips for Working with Large Data Requests\n",
    "\n",
    "- For large datasets, consider using Option 2 (submit without waiting)\n",
    "- Limit your time range (fewer years/months) in each request\n",
    "- Request fewer variables at once\n",
    "- Consider reducing the geographic area if you only need a specific region\n",
    "- Save your job IDs so you can come back to them later if needed"
   ]
  }
 ],
 "metadata": {
  "kernelspec": {
   "display_name": "Python 3 (ipykernel)",
   "language": "python",
   "name": "python3"
  },
  "language_info": {
   "codemirror_mode": {
    "name": "ipython",
    "version": 3
   },
   "file_extension": ".py",
   "mimetype": "text/x-python",
   "name": "python",
   "nbconvert_exporter": "python",
   "pygments_lexer": "ipython3",
   "version": "3.13.2"
  }
 },
 "nbformat": 4,
 "nbformat_minor": 5
}
