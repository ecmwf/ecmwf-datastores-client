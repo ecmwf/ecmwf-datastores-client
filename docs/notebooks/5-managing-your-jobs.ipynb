{
 "cells": [
  {
   "cell_type": "markdown",
   "id": "d58cf720-02b6-4aec-8e87-97e0a25d7b5a",
   "metadata": {},
   "source": [
    "# Managing Your Data Requests with `ecmwf-datastores-client`\n",
    "\n",
    "This guide shows you how to track and manage all the climate/atmosphere data requests you've submitted to the Copernicus Data Store. Think of this as your \"data request history manager.\""
   ]
  },
  {
   "cell_type": "markdown",
   "id": "bc19dec8-3625-4db2-9cb3-14d42f6a1512",
   "metadata": {},
   "source": [
    "## What You Need Before Starting\n",
    "\n",
    "1. An **active internet connection**\n",
    "2. **Python** installed on your computer\n",
    "3. The `ecmwf-datastores-client` package installed, otherwise uncomment and run the next cell\n",
    "4. A **CDS account** or **ADS account** with your API key set up (see the \"Getting Started\" notebook)"
   ]
  },
  {
   "cell_type": "code",
   "execution_count": null,
   "id": "4ce6064c-0a41-476b-b988-ff7fc45374e5",
   "metadata": {},
   "outputs": [],
   "source": [
    "# !pip install -U ecmwf-datastores-client"
   ]
  },
  {
   "cell_type": "code",
   "execution_count": null,
   "id": "58e4cb29-b28d-4a35-87e0-c9242273f53c",
   "metadata": {},
   "outputs": [],
   "source": [
    "import os\n",
    "\n",
    "import pandas as pd\n",
    "from IPython.display import display\n",
    "\n",
    "from ecmwf.datastores import Client"
   ]
  },
  {
   "cell_type": "markdown",
   "id": "9b8c04e4-b281-4b83-8a65-fb15cd75163d",
   "metadata": {},
   "source": [
    "**Tip:** If you don’t want to see warnings while running your notebook, you can uncomment the following cell:"
   ]
  },
  {
   "cell_type": "code",
   "execution_count": null,
   "id": "267bf339-e657-47ec-9898-460db90c6e12",
   "metadata": {},
   "outputs": [],
   "source": [
    "# import warnings\n",
    "# warnings.filterwarnings(\"ignore\")"
   ]
  },
  {
   "cell_type": "markdown",
   "id": "448dd0d8-c659-4ecb-ac69-4eaec6c0e296",
   "metadata": {},
   "source": [
    "## Connect to the Data Store\n",
    "\n",
    "First, let's establish a connection to the data store:"
   ]
  },
  {
   "cell_type": "code",
   "execution_count": null,
   "id": "3095febc-bd71-4fb9-9ec2-35149da7390a",
   "metadata": {},
   "outputs": [],
   "source": [
    "client = Client()\n",
    "\n",
    "# Check that we're connected successfully\n",
    "connection_info = client.check_authentication()\n",
    "print(\"✅ Connected successfully to the Data Store!\")"
   ]
  },
  {
   "cell_type": "markdown",
   "id": "1b9d9212-542c-4f26-a57c-8441f1ce42a8",
   "metadata": {},
   "source": [
    "## View Your Data Request History\n",
    "\n",
    "Let's retrieve information about all your past data requests:"
   ]
  },
  {
   "cell_type": "code",
   "execution_count": null,
   "id": "168e1d8a-13e9-4fc9-a8f9-00cdf917b5f7",
   "metadata": {},
   "outputs": [],
   "source": [
    "# Get a list of your data requests, newest first\n",
    "print(\"Retrieving your data request history...\")\n",
    "jobs = client.get_jobs(sortby=\"-created\")\n",
    "\n",
    "# Create a list to store all the request IDs and their status\n",
    "request_ids = []\n",
    "\n",
    "# Loop through all pages of results (if there are many requests)\n",
    "while jobs is not None:\n",
    "    # Add each job's ID and status to our list\n",
    "    request_ids.extend([job[\"jobID\"], job[\"status\"]] for job in jobs.json[\"jobs\"])\n",
    "    # Move to the next page of results\n",
    "    jobs = jobs.next\n",
    "\n",
    "print(f\"Found {len(request_ids)} data requests in your history!\")"
   ]
  },
  {
   "cell_type": "markdown",
   "id": "f13f3ffc-942c-4c4b-8759-243d330762f2",
   "metadata": {},
   "source": [
    "## Get Detailed Information About Your Requests\n",
    "\n",
    "Now let's collect more detailed information about each of your data requests:"
   ]
  },
  {
   "cell_type": "code",
   "execution_count": null,
   "id": "0cb7bd86-6d7b-4878-ab1c-de3ea3f8ae73",
   "metadata": {},
   "outputs": [],
   "source": [
    "print(\"Gathering detailed information about each request...\")\n",
    "jobs_info = []\n",
    "\n",
    "# Loop through each request and collect its details\n",
    "for request_id, request_status in request_ids:\n",
    "    # Get the full details of this particular request\n",
    "    remote = client.get_remote(request_id)\n",
    "\n",
    "    # Get date components\n",
    "    year = \", \".join(filter(None, remote.request.get(\"year\", [None])))\n",
    "    month = \", \".join(filter(None, remote.request.get(\"month\", [None])))\n",
    "    day = \", \".join(filter(None, remote.request.get(\"day\", [None])))\n",
    "\n",
    "    # Combine date information\n",
    "    date_info = f\"{year}-{month}-{day}\" if all([year, month, day]) else \"Not specified\"\n",
    "\n",
    "    # Extract and organize the important information\n",
    "    jobs_info.append(\n",
    "        {\n",
    "            \"Request ID\": request_id,\n",
    "            \"Status\": request_status,\n",
    "            \"Dataset\": remote.collection_id,\n",
    "            \"Created\": remote.created_at.strftime(\"%Y-%m-%d %H:%M\"),\n",
    "            \"Completed\": remote.finished_at.strftime(\"%Y-%m-%d %H:%M\")\n",
    "            if remote.finished_at\n",
    "            else \"Not finished\",\n",
    "            \"Variable\": \", \".join(filter(None, remote.request.get(\"variable\", [None]))),\n",
    "            \"Date\": date_info,\n",
    "            \"Format\": remote.request.get(\"data_format\", \"Unknown\"),\n",
    "        }\n",
    "    )\n",
    "\n",
    "print(\"✅ Information collected successfully!\")"
   ]
  },
  {
   "cell_type": "code",
   "execution_count": null,
   "id": "06bf157a",
   "metadata": {},
   "outputs": [],
   "source": [
    "import time\n",
    "print(len(request_ids))\n",
    "for i, request_id in enumerate(request_ids):\n",
    "    print(i, request_id[0])\n",
    "    client.get_remote(request_id[0])\n",
    "    time.sleep(1)"
   ]
  },
  {
   "cell_type": "markdown",
   "id": "8ddfd69d-46d6-4dcb-aac7-ee866e86a124",
   "metadata": {},
   "source": [
    "## Create an Interactive Table of Your Requests\n",
    "\n",
    "Now let's display all your data requests in an easy-to-use interactive table:"
   ]
  },
  {
   "cell_type": "code",
   "execution_count": null,
   "id": "dcdb9dde-5b29-41a2-9c47-198e9868b208",
   "metadata": {},
   "outputs": [],
   "source": [
    "# Create a table from our collected information\n",
    "df_jobs = pd.DataFrame(jobs_info)\n",
    "\n",
    "# Render DataFrame as HTML to avoid truncation\n",
    "display(df_jobs)"
   ]
  },
  {
   "cell_type": "code",
   "execution_count": null,
   "id": "beebc4d4-5024-4ae8-9730-44e70f6e64f0",
   "metadata": {},
   "outputs": [],
   "source": [
    "df_jobs[\"Request ID\"][0]"
   ]
  },
  {
   "cell_type": "markdown",
   "id": "ab90a1ff-95fa-4fac-9a2f-b8d759683fc7",
   "metadata": {},
   "source": [
    "## Working with Your Past Data Requests\n",
    "\n",
    "Here are some examples of what you can do with your past requests:"
   ]
  },
  {
   "cell_type": "markdown",
   "id": "77887266-e99b-4904-97e7-3c7195dd4494",
   "metadata": {},
   "source": [
    "### Download Data from a Past Request"
   ]
  },
  {
   "cell_type": "markdown",
   "id": "9475405d-c7d3-4083-9bd8-1142c71fa4dd",
   "metadata": {},
   "source": [
    "\n",
    "\n"
   ]
  },
  {
   "cell_type": "code",
   "execution_count": null,
   "id": "8de3e782-d6b5-4715-ad89-f1bbb52b8304",
   "metadata": {},
   "outputs": [],
   "source": [
    "# If you want to download data from a specific request:\n",
    "request_id = (\n",
    "    \"49b3a61b-7310-4da3-b22f-f9e85f2a9821\"  # Replace with an ID from your table\n",
    ")\n",
    "\n",
    "# Check if the request was successful\n",
    "remote = client.get_remote(request_id)\n",
    "if remote.status == \"successful\":\n",
    "    print(\n",
    "        f\"Downloading data from request made on {remote.created_at.strftime('%Y-%m-%d')}...\"\n",
    "    )\n",
    "    remote.download(target=\"my_past_request_data.grib\")\n",
    "    print(\"✅ Download complete!\")\n",
    "else:\n",
    "    print(f\"This request has status '{remote.status}' and cannot be downloaded.\")"
   ]
  },
  {
   "cell_type": "markdown",
   "id": "c6b2632f-a746-4d65-8290-a3d15e498c70",
   "metadata": {},
   "source": [
    "### Delete an Old Request"
   ]
  },
  {
   "cell_type": "code",
   "execution_count": null,
   "id": "9cb2a076-98ba-4719-873b-99055448cd4a",
   "metadata": {},
   "outputs": [],
   "source": [
    "# If you want to remove an old request:\n",
    "request_id = (\n",
    "    \"49b3a61b-7310-4da3-b22f-f9e85f2a9821\"  # Replace with an ID from your table\n",
    ")\n",
    "\n",
    "# Delete the request\n",
    "remote = client.get_remote(request_id)\n",
    "remote.delete()\n",
    "print(\"✅ Request deleted successfully!\")"
   ]
  },
  {
   "cell_type": "markdown",
   "id": "f11f4f42-d4b4-48a5-8cc0-e3dc74136c29",
   "metadata": {},
   "source": [
    "## Tips for Managing Your Data Requests\n",
    "\n",
    "- **Sort by date**: Keep track of when you made each request\n",
    "- **Look at the status**: \"successful\" means the data is ready to download\n",
    "- **Check file formats**: Make sure you know what format your data is in before downloading\n",
    "- **Keep track of request IDs**: Save important request IDs for data you might need again\n",
    "- **Clean up periodically**: Delete old requests you no longer need\n"
   ]
  },
  {
   "cell_type": "code",
   "execution_count": null,
   "id": "1e5f1094-4d1b-4bcf-b23f-951e19e2a991",
   "metadata": {},
   "outputs": [],
   "source": []
  }
 ],
 "metadata": {
  "kernelspec": {
   "display_name": "DEVELOP",
   "language": "python",
   "name": "python3"
  },
  "language_info": {
   "codemirror_mode": {
    "name": "ipython",
    "version": 3
   },
   "file_extension": ".py",
   "mimetype": "text/x-python",
   "name": "python",
   "nbconvert_exporter": "python",
   "pygments_lexer": "ipython3",
   "version": "3.13.3"
  }
 },
 "nbformat": 4,
 "nbformat_minor": 5
}
