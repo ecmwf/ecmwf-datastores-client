{
 "cells": [
  {
   "cell_type": "markdown",
   "id": "0fd14846-740d-4219-9c6e-ea264a0e0b00",
   "metadata": {},
   "source": [
    "# Getting information about data store collections (datasets) using `ecmwf-datastores-client`"
   ]
  },
  {
   "cell_type": "markdown",
   "id": "f07d2308-1617-47df-af25-63c12c93e67b",
   "metadata": {},
   "source": [
    "## Description"
   ]
  },
  {
   "cell_type": "markdown",
   "id": "f03028f5",
   "metadata": {},
   "source": [
    "This script retrieves and lists all available datastore datasets (also known as *collection IDs*), sorted by their last update date.\n",
    "\n",
    "It returns a `Collections` instance. Once retrieved, the details of a specific dataset can be explored individually."
   ]
  },
  {
   "cell_type": "markdown",
   "id": "76cf620d-fe86-40c0-9530-107244654dff",
   "metadata": {},
   "source": [
    "## What You Need Before Starting"
   ]
  },
  {
   "cell_type": "markdown",
   "id": "c14d6eaa-9a63-403d-b163-f28704ea1f31",
   "metadata": {},
   "source": [
    "1. You have an **active internet connection**.\n",
    "2. You are using **Python 3.12.8** (or a compatible version).\n",
    "3. The latest version of the `ecmwf-datastores-client` package is installed and configured on your system. Also, the extra libraries that you need. You can uncomment and run the next cell.\n",
    "4. You have a **CDS account** or **ADS account** with your API credentials stored in a `.ecmwfdatastoresrc` file. If not, please refer to the notebook \"Getting started\"."
   ]
  },
  {
   "cell_type": "code",
   "execution_count": null,
   "id": "32145d56-017d-482c-bb58-09c871965048",
   "metadata": {},
   "outputs": [],
   "source": [
    "# Install the required libraries to run this notebook\n",
    "# !pip install -U ecmwf-datastores-client itables"
   ]
  },
  {
   "cell_type": "code",
   "execution_count": null,
   "id": "e481985d-c812-451c-910b-03f4a5b2c946",
   "metadata": {},
   "outputs": [],
   "source": [
    "import os\n",
    "\n",
    "import pandas as pd\n",
    "\n",
    "from ecmwf.datastores import Client"
   ]
  },
  {
   "cell_type": "markdown",
   "id": "a0874dfd-e9f5-4b64-9832-6a55e7cd75a3",
   "metadata": {},
   "source": [
    "**Tip:** If you don’t want to see warnings while running your notebook, you can uncomment the following cell:"
   ]
  },
  {
   "cell_type": "code",
   "execution_count": null,
   "id": "7be2c122-c98d-4eff-a474-18c22dd27564",
   "metadata": {},
   "outputs": [],
   "source": [
    "# import warnings\n",
    "# warnings.filterwarnings(\"ignore\")"
   ]
  },
  {
   "cell_type": "markdown",
   "id": "f66870c0-e4ce-40c1-9ad9-a84a560554a1",
   "metadata": {},
   "source": [
    "## Set Up the API Client"
   ]
  },
  {
   "cell_type": "markdown",
   "id": "c26b1ea6",
   "metadata": {},
   "source": [
    "Connect to the Copernicus Data Store using your saved credentials."
   ]
  },
  {
   "cell_type": "code",
   "execution_count": null,
   "id": "6f153f8a-824f-4394-8f7f-a5f561d3ccb8",
   "metadata": {},
   "outputs": [],
   "source": [
    "client = Client()\n",
    "client.check_authentication()\n",
    "print(\"✅ Connected successfully to the Data Store!\")"
   ]
  },
  {
   "cell_type": "markdown",
   "id": "ee4bd6cf-66a8-437a-96a8-31742f1a3c8a",
   "metadata": {},
   "source": [
    "## Retrieving collections information"
   ]
  },
  {
   "cell_type": "markdown",
   "id": "436ec2ee",
   "metadata": {},
   "source": [
    "We are going to explore how to search and browse through our catalogue collections.  \n",
    "\n",
    "For that we are going to user the `get_collections()` function which allows you to find and list all collections from our catalogue. "
   ]
  },
  {
   "cell_type": "code",
   "execution_count": null,
   "id": "f8ab4e73-510a-416d-a06e-17b29c68d821",
   "metadata": {},
   "outputs": [],
   "source": [
    "# Requests collections, sorting them by most recently updated\n",
    "collections = client.get_collections(sortby=\"update\")"
   ]
  },
  {
   "cell_type": "code",
   "execution_count": null,
   "id": "b06b4054-0782-4cae-903d-2c606aa51330",
   "metadata": {},
   "outputs": [],
   "source": [
    "#  Create an empty list to store the collection details we extract\n",
    "collection_info = []\n",
    "\n",
    "# Loop through the collections and get the information,\n",
    "# as long as there are more collections to retrieve\n",
    "while collections is not None:  # Loop over pages\n",
    "    collection_info.extend(\n",
    "        [collection[\"id\"], collection[\"title\"]]\n",
    "        for collection in collections.json[\"collections\"]\n",
    "    )\n",
    "    collections = collections.next  # Move to the next page\n",
    "\n",
    "# After this code runs, collection_info contains ID and title pairs\n",
    "# for all collections, starting with the most recently updated ones."
   ]
  },
  {
   "cell_type": "code",
   "execution_count": null,
   "id": "06bfbcf2-5c1a-4759-a46b-78865aa99513",
   "metadata": {},
   "outputs": [],
   "source": [
    "print(\n",
    "    \"There are %i collections available from %s.\" % (len(collection_info), client.url)\n",
    ")"
   ]
  },
  {
   "cell_type": "markdown",
   "id": "2f03edbb-c97d-4412-9031-f60da6492fa8",
   "metadata": {},
   "source": [
    "### Organise the collections' data into a convenient table format"
   ]
  },
  {
   "cell_type": "code",
   "execution_count": null,
   "id": "f9c59464-d1be-46d9-a267-9fe532f91f3f",
   "metadata": {},
   "outputs": [],
   "source": [
    "# Empty list that will hold our formatted collection information\n",
    "collections_data = []\n",
    "\n",
    "# The loop goes through each pair of collection ID and title we gathered earlier\n",
    "# For each collection, it creates a small \"package\" of information (a dictionary)\n",
    "# Each package contains the collection's ID and title with clear labels\n",
    "for collection_id, collection_title in collection_info:\n",
    "    collections_data.append(\n",
    "        {\n",
    "            \"collection_id\": collection_id,\n",
    "            \"collection_title\": collection_title,\n",
    "        }\n",
    "    )\n",
    "\n",
    "# Finally, convert our list of dictionaries into a table (a DataFrame),\n",
    "# where each row represents one collection from our system\n",
    "df_collections = pd.DataFrame(collections_data)"
   ]
  },
  {
   "cell_type": "code",
   "execution_count": null,
   "id": "38cf1b98-f346-4fb1-8ce7-a5efae374870",
   "metadata": {},
   "outputs": [],
   "source": [
    "# Display the collections data as an interactive table\n",
    "from itables import init_notebook_mode, show\n",
    "\n",
    "# Initialize interactive table mode\n",
    "init_notebook_mode(all_interactive=True)\n",
    "\n",
    "# Rename columns for clarity\n",
    "df_collections_display = df_collections.rename(\n",
    "    columns={\"collection_id\": \"Collection ID\", \"collection_title\": \"Collection Name\"}\n",
    ")\n",
    "\n",
    "# Configure table options for better appearance and functionality\n",
    "show(\n",
    "    df_collections_display,\n",
    "    columnDefs=[\n",
    "        {\"width\": \"35%\", \"targets\": 0},  # ID column width\n",
    "        {\"width\": \"65%\", \"targets\": 1},  # Name column width\n",
    "    ],\n",
    "    dom=\"Bfrtip\",  # Add buttons, filter, processing indicator\n",
    "    buttons=[\"copy\", \"csv\", \"excel\"],  # Add export options\n",
    "    paging=True,\n",
    "    pageLength=15,  # Show 15 rows per page\n",
    "    lengthMenu=[\n",
    "        [10, 15, 25, 50, -1],\n",
    "        [\"10 rows\", \"15 rows\", \"25 rows\", \"50 rows\", \"All\"],\n",
    "    ],\n",
    "    order=[[1, \"asc\"]],  # Default sort by Collection Name\n",
    "    style=\"display: inline-block; width: 100%\",\n",
    ")\n",
    "\n",
    "print(\"\\nTip: You can search, sort, and export this table using the controls above.\")"
   ]
  },
  {
   "cell_type": "markdown",
   "id": "cac603a8-9edc-4234-b3e8-74de85ba14aa",
   "metadata": {},
   "source": [
    "## Working with Individual Collections"
   ]
  },
  {
   "cell_type": "markdown",
   "id": "5a492493",
   "metadata": {},
   "source": [
    "Once you've found a collection that interests you, you can get more detailed information about it using the get_collection() function."
   ]
  },
  {
   "cell_type": "markdown",
   "id": "4148f42a-c088-44cf-8429-0e7604ba3469",
   "metadata": {},
   "source": [
    "### How to Use the Function"
   ]
  },
  {
   "cell_type": "code",
   "execution_count": null,
   "id": "a022f1d7-634c-47c2-850b-c1cd3af8120f",
   "metadata": {},
   "outputs": [],
   "source": [
    "# Retrieve detailed information about a specific collection\n",
    "# You need to provide the Collection ID (You can find collection IDs in the table we created above)\n",
    "collection = client.get_collection(collection_id=\"reanalysis-era5-pressure-levels\")"
   ]
  },
  {
   "cell_type": "markdown",
   "id": "8d3607a3-5e94-4708-a1eb-363a29971c2b",
   "metadata": {},
   "source": [
    "### What Information You'll Get"
   ]
  },
  {
   "cell_type": "markdown",
   "id": "29bf57e3",
   "metadata": {},
   "source": [
    "When you retrieve a collection, you'll have access to many useful details:\n",
    "\n",
    "#### Basic Information\n",
    "- **Title**: The name of the collection (`collection.title`)\n",
    "- **Description**: A detailed explanation of what the collection contains (`collection.description`)\n",
    "- **ID**: The unique identifier for the collection (`collection.id`)\n",
    "\n",
    "#### Geographic Coverage\n",
    "- **Bounding Box**: The geographic area covered by the collection (`collection.bbox`)\n",
    "- This is given as (West, South, East, North) coordinates\n",
    "\n",
    "#### Time Period\n",
    "- **Begin Date**: When the data in this collection starts (`collection.begin_datetime`)\n",
    "- **End Date**: When the data in this collection ends (`collection.end_datetime`)\n",
    "\n",
    "#### Publication Information\n",
    "- **Published Date**: When the collection was first made available (`collection.published_at`)\n",
    "- **Last Updated**: When the collection was last modified (`collection.updated_at`)\n",
    "\n",
    "#### Access Information\n",
    "- **URL**: Where the collection can be accessed (`collection.url`)"
   ]
  },
  {
   "cell_type": "markdown",
   "id": "7f6225b0-eecd-4978-801d-21c1a069008f",
   "metadata": {},
   "source": [
    "### Example: Getting and Displaying Collection Details"
   ]
  },
  {
   "cell_type": "code",
   "execution_count": null,
   "id": "02583afc-77aa-4f6f-aaf4-d21c0b1e7b77",
   "metadata": {},
   "outputs": [],
   "source": [
    "# Extract and display the key information\n",
    "print(\"\\n📊 DATASET DETAILS\")\n",
    "print(\"=\" * 50)\n",
    "print(f\"Name: {collection.title}\")\n",
    "print(f\"ID: {collection.id}\")\n",
    "print(\"-\" * 50)\n",
    "print(\"Description:\")\n",
    "print(collection.description)\n",
    "print(\"-\" * 50)\n",
    "print(f\"Published at: {collection.published_at}\")\n",
    "print(f\"Last updated at: {collection.updated_at}\")\n",
    "print(\"-\" * 50)\n",
    "print(f\"Coverage starts at: {collection.begin_datetime}\")\n",
    "print(f\"Coverage ends at: {collection.end_datetime}\")\n",
    "print(\"-\" * 50)\n",
    "print(f\"Spatial coverage (W, S, E, N): {collection.bbox}\")"
   ]
  }
 ],
 "metadata": {
  "kernelspec": {
   "display_name": "DEVELOP",
   "language": "python",
   "name": "python3"
  },
  "language_info": {
   "codemirror_mode": {
    "name": "ipython",
    "version": 3
   },
   "file_extension": ".py",
   "mimetype": "text/x-python",
   "name": "python",
   "nbconvert_exporter": "python",
   "pygments_lexer": "ipython3",
   "version": "3.13.3"
  }
 },
 "nbformat": 4,
 "nbformat_minor": 5
}
