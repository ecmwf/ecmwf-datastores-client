{
 "cells": [
  {
   "cell_type": "markdown",
   "id": "0fd14846-740d-4219-9c6e-ea264a0e0b00",
   "metadata": {},
   "source": [
    "# Getting information about data store collections (datasets) using `ecmwf-datastores-client`"
   ]
  },
  {
   "cell_type": "markdown",
   "id": "f07d2308-1617-47df-af25-63c12c93e67b",
   "metadata": {},
   "source": [
    "## Description"
   ]
  },
  {
   "cell_type": "markdown",
   "id": "f03028f5",
   "metadata": {},
   "source": [
    "This script retrieves and lists all available datastore datasets (also known as *collection IDs*), sorted by their last update date.\n",
    "\n",
    "It returns a `Collections` instance. Once retrieved, the details of a specific dataset can be explored individually."
   ]
  },
  {
   "cell_type": "markdown",
   "id": "76cf620d-fe86-40c0-9530-107244654dff",
   "metadata": {},
   "source": [
    "## What you need before starting"
   ]
  },
  {
   "cell_type": "markdown",
   "id": "c14d6eaa-9a63-403d-b163-f28704ea1f31",
   "metadata": {},
   "source": [
    "1. You have an **active internet connection**.\n",
    "2. You are using **Python 3.12.8** (or a compatible version).\n",
    "3. The latest version of the `ecmwf-datastores-client` package is installed and configured on your system. Also, the extra libraries that you need. You can uncomment and run the next cell.\n",
    "4. You have a **CDS account** or **ADS account** with your API credentials stored in a `.ecmwfdatastoresrc` file. If not, please refer to the notebook \"Getting started\"."
   ]
  },
  {
   "cell_type": "code",
   "execution_count": null,
   "id": "32145d56-017d-482c-bb58-09c871965048",
   "metadata": {},
   "outputs": [],
   "source": [
    "# Install the required libraries to run this notebook\n",
    "# !pip install -U ecmwf-datastores-client itables\n",
    "\n",
    "from ecmwf.datastores import Client"
   ]
  },
  {
   "cell_type": "markdown",
   "id": "f66870c0-e4ce-40c1-9ad9-a84a560554a1",
   "metadata": {},
   "source": [
    "## Set up the API client"
   ]
  },
  {
   "cell_type": "markdown",
   "id": "c26b1ea6",
   "metadata": {},
   "source": [
    "Connect to the Data Store service using the credentials saved in your `.ecmwfdatastoresrc` file, we also include a check to ensure that the credential found are valid."
   ]
  },
  {
   "cell_type": "code",
   "execution_count": null,
   "id": "6f153f8a-824f-4394-8f7f-a5f561d3ccb8",
   "metadata": {},
   "outputs": [],
   "source": [
    "client = Client()\n",
    "client.check_authentication()\n",
    "print(\"✅ Connected successfully to the Data Store!\")"
   ]
  },
  {
   "cell_type": "markdown",
   "id": "ee4bd6cf-66a8-437a-96a8-31742f1a3c8a",
   "metadata": {},
   "source": [
    "## Retrieving collections information"
   ]
  },
  {
   "cell_type": "markdown",
   "id": "436ec2ee",
   "metadata": {},
   "source": [
    "We are going to explore how to search and browse through our catalogue collections.  \n",
    "\n",
    "For that we are going to user the `get_collections()` function which allows you to find and list all collections from our catalogue. "
   ]
  },
  {
   "cell_type": "code",
   "execution_count": null,
   "id": "f8ab4e73-510a-416d-a06e-17b29c68d821",
   "metadata": {},
   "outputs": [],
   "source": [
    "# Requests collections, sorting them by most recently updated\n",
    "collections = client.get_collections(sortby=\"id\")"
   ]
  },
  {
   "cell_type": "code",
   "execution_count": null,
   "id": "b06b4054-0782-4cae-903d-2c606aa51330",
   "metadata": {},
   "outputs": [],
   "source": [
    "#  Create an empty list to store the collection details we extract\n",
    "collections_info = []\n",
    "\n",
    "# Loop through the collections and get the information,\n",
    "# as long as there are more collections to retrieve\n",
    "while collections is not None:  # Loop over pages\n",
    "    collections_info.extend(\n",
    "        {\n",
    "            \"Collection ID\": collection[\"id\"],\n",
    "            \"Collection Name\": collection[\"title\"],\n",
    "        }\n",
    "        for collection in collections.json[\"collections\"]\n",
    "    )\n",
    "    collections = collections.next  # Move to the next page\n",
    "\n",
    "# After this code runs, collections_info contains ID and title pairs\n",
    "# for all collections, starting with the most recently updated ones.\n",
    "print(\n",
    "    \"There are %i collections available from %s.\" % (len(collections_info), client.url)\n",
    ")"
   ]
  },
  {
   "cell_type": "markdown",
   "id": "2f03edbb-c97d-4412-9031-f60da6492fa8",
   "metadata": {},
   "source": [
    "### Organise the collections metadata into a convenient table format"
   ]
  },
  {
   "cell_type": "markdown",
   "id": "791cee53",
   "metadata": {},
   "source": [
    "We use `pandas` and `itables` to present the collections in an interactive table that can be filtered and sorted."
   ]
  },
  {
   "cell_type": "code",
   "execution_count": null,
   "id": "38cf1b98-f346-4fb1-8ce7-a5efae374870",
   "metadata": {},
   "outputs": [],
   "source": [
    "# Display the collections data as an interactive table\n",
    "import pandas as pd\n",
    "from itables import init_notebook_mode, show\n",
    "\n",
    "# Initialize interactive table mode\n",
    "init_notebook_mode(all_interactive=True)\n",
    "\n",
    "# We turn our collection_info list into a DataFrame for display\n",
    "df_collections_display = pd.DataFrame(collections_info)\n",
    "\n",
    "# Configure table options for better appearance and functionality\n",
    "show(\n",
    "    df_collections_display,\n",
    "    columnDefs=[\n",
    "        {\"width\": \"35%\", \"targets\": 0},  # ID column width\n",
    "        {\"width\": \"65%\", \"targets\": 1},  # Name column width\n",
    "    ],\n",
    "    dom=\"Bfrtip\",  # Add buttons, filter, processing indicator\n",
    "    buttons=[\"copy\", \"csv\", \"excel\"],  # Add export options\n",
    "    paging=True,\n",
    "    pageLength=15,  # Show 15 rows per page\n",
    "    lengthMenu=[\n",
    "        [10, 15, 25, 50, -1],\n",
    "        [\"10 rows\", \"15 rows\", \"25 rows\", \"50 rows\", \"All\"],\n",
    "    ],\n",
    "    order=[[1, \"asc\"]],  # Default sort by Collection Name\n",
    "    style=\"display: inline-block; width: 100%\",\n",
    ")\n",
    "\n",
    "print(\"\\nTip: You can search, sort, and export this table using the controls above.\")"
   ]
  },
  {
   "cell_type": "markdown",
   "id": "cac603a8-9edc-4234-b3e8-74de85ba14aa",
   "metadata": {},
   "source": [
    "## Working with individual collections"
   ]
  },
  {
   "cell_type": "markdown",
   "id": "5a492493",
   "metadata": {},
   "source": [
    "Once you've found a collection that interests you, you can get more detailed information about it using the get_collection() function."
   ]
  },
  {
   "cell_type": "code",
   "execution_count": null,
   "id": "a022f1d7-634c-47c2-850b-c1cd3af8120f",
   "metadata": {},
   "outputs": [],
   "source": [
    "# Retrieve detailed information about a specific collection\n",
    "# You need to provide the Collection ID (You can find collection IDs in the table we created above)\n",
    "collection = client.get_collection(collection_id=\"reanalysis-era5-pressure-levels\")"
   ]
  },
  {
   "cell_type": "markdown",
   "id": "8d3607a3-5e94-4708-a1eb-363a29971c2b",
   "metadata": {},
   "source": [
    "### What information is accessible"
   ]
  },
  {
   "cell_type": "markdown",
   "id": "29bf57e3",
   "metadata": {},
   "source": [
    "When you retrieve a collection, you have access to many useful details:\n",
    "\n",
    "#### Basic information\n",
    "- **Title**: The name of the collection (`collection.title`)\n",
    "- **Description**: A detailed explanation of what the collection contains (`collection.description`)\n",
    "- **ID**: The unique identifier for the collection (`collection.id`)\n",
    "\n",
    "#### Geographic coverage\n",
    "- **Bounding box**: The geographic area covered by the collection (`collection.bbox`)\n",
    "- This is given as (West, South, East, North) coordinates\n",
    "\n",
    "#### Time period\n",
    "- **Begin date**: When the data in this collection starts (`collection.begin_datetime`)\n",
    "- **End date**: When the data in this collection ends (`collection.end_datetime`)\n",
    "\n",
    "#### Publication Information\n",
    "- **Published date**: When the collection was first made available (`collection.published_at`)\n",
    "- **Last updated**: When the collection was last modified (`collection.updated_at`)\n",
    "\n",
    "#### Access information\n",
    "- **URL**: Where the collection can be accessed (`collection.url`)"
   ]
  },
  {
   "cell_type": "markdown",
   "id": "7f6225b0-eecd-4978-801d-21c1a069008f",
   "metadata": {},
   "source": [
    "### Example: Displaying collection details"
   ]
  },
  {
   "cell_type": "code",
   "execution_count": null,
   "id": "02583afc-77aa-4f6f-aaf4-d21c0b1e7b77",
   "metadata": {},
   "outputs": [],
   "source": [
    "# Extract and display the key information\n",
    "print(f\"\"\"\n",
    "📊 DATASET DETAILS\\n\n",
    "{'='*50}\\n\n",
    "Name: {collection.title}\n",
    "ID: {collection.id}\n",
    "{'-'*50}\\n\n",
    "Description:\\n\n",
    "{collection.description}\n",
    "{'-'*50}\\n\n",
    "Published at: {collection.published_at}\n",
    "Last updated at: {collection.updated_at}\n",
    "{'-'*50}\\n\n",
    "Coverage starts at: {collection.begin_datetime}\n",
    "Coverage ends at: {collection.end_datetime}\n",
    "{'-'*50}\\n\n",
    "Spatial coverage (W, S, E, N): {collection.bbox}\n",
    "\"\"\")"
   ]
  }
 ],
 "metadata": {
  "kernelspec": {
   "display_name": "DEVELOP",
   "language": "python",
   "name": "python3"
  },
  "language_info": {
   "codemirror_mode": {
    "name": "ipython",
    "version": 3
   },
   "file_extension": ".py",
   "mimetype": "text/x-python",
   "name": "python",
   "nbconvert_exporter": "python",
   "pygments_lexer": "ipython3",
   "version": "3.13.3"
  }
 },
 "nbformat": 4,
 "nbformat_minor": 5
}
