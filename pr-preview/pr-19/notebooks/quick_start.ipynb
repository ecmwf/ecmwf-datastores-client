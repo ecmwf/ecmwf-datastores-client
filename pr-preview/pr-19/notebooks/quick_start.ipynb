{
 "cells": [
  {
   "cell_type": "markdown",
   "id": "0",
   "metadata": {},
   "source": [
    "# Quick start"
   ]
  },
  {
   "cell_type": "code",
   "execution_count": 1,
   "id": "1",
   "metadata": {
    "execution": {
     "iopub.execute_input": "2025-06-18T08:06:00.989624Z",
     "iopub.status.busy": "2025-06-18T08:06:00.989511Z",
     "iopub.status.idle": "2025-06-18T08:06:01.832643Z",
     "shell.execute_reply": "2025-06-18T08:06:01.832067Z"
    }
   },
   "outputs": [],
   "source": [
    "from ecmwf.datastores import Client\n",
    "\n",
    "client = Client()"
   ]
  }
 ],
 "metadata": {
  "kernelspec": {
   "display_name": "Python 3 (ipykernel)",
   "language": "python",
   "name": "python3"
  },
  "language_info": {
   "codemirror_mode": {
    "name": "ipython",
    "version": 3
   },
   "file_extension": ".py",
   "mimetype": "text/x-python",
   "name": "python",
   "nbconvert_exporter": "python",
   "pygments_lexer": "ipython3",
   "version": "3.11.13"
  }
 },
 "nbformat": 4,
 "nbformat_minor": 5
}
