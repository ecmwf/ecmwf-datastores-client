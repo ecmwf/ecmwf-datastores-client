{
 "cells": [
  {
   "cell_type": "markdown",
   "id": "0",
   "metadata": {},
   "source": [
    "# Quick start"
   ]
  },
  {
   "cell_type": "code",
   "execution_count": 1,
   "id": "1",
   "metadata": {
    "execution": {
     "iopub.execute_input": "2025-06-05T07:32:16.383829Z",
     "iopub.status.busy": "2025-06-05T07:32:16.383659Z",
     "iopub.status.idle": "2025-06-05T07:32:17.270985Z",
     "shell.execute_reply": "2025-06-05T07:32:17.269833Z"
    }
   },
   "outputs": [],
   "source": [
    "import os\n",
    "\n",
    "from ecmwf.datastores import Client\n",
    "\n",
    "client = Client(\n",
    "    url=os.getenv(\"ECMWF_DATASTORES_URL\"),\n",
    "    key=os.getenv(\"ECMWF_DATASTORES_KEY\"),\n",
    ")"
   ]
  }
 ],
 "metadata": {
  "kernelspec": {
   "display_name": "Python 3 (ipykernel)",
   "language": "python",
   "name": "python3"
  },
  "language_info": {
   "codemirror_mode": {
    "name": "ipython",
    "version": 3
   },
   "file_extension": ".py",
   "mimetype": "text/x-python",
   "name": "python",
   "nbconvert_exporter": "python",
   "pygments_lexer": "ipython3",
   "version": "3.11.13"
  }
 },
 "nbformat": 4,
 "nbformat_minor": 5
}
